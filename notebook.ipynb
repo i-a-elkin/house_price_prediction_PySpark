{
 "cells": [
  {
   "cell_type": "markdown",
   "id": "GEqQaHzsZ_bA",
   "metadata": {
    "id": "GEqQaHzsZ_bA"
   },
   "source": [
    "## Предсказание стоимости жилья\n",
    "\n",
    "В проекте вам нужно обучить модель линейной регрессии на данных о жилье в Калифорнии в 1990 году. На основе данных нужно предсказать медианную стоимость дома в жилом массиве — median_house_value. Обучите модель и сделайте предсказания на тестовой выборке. Для оценки качества модели используйте метрики RMSE, MAE и R2.\n",
    "\n",
    "В колонках датасета содержатся следующие данные:\n",
    "- longitude — широта;\n",
    "- latitude — долгота;\n",
    "- housing_median_age — медианный возраст жителей жилого массива;\n",
    "- total_rooms — общее количество комнат в домах жилого массива;\n",
    "- total_bedrooms — общее количество спален в домах жилого массива;\n",
    "- population — количество человек, которые проживают в жилом массиве;\n",
    "- households — количество домовладений в жилом массиве;\n",
    "- median_income — медианный доход жителей жилого массива;\n",
    "- median_house_value — медианная стоимость дома в жилом массиве;\n",
    "- ocean_proximity — близость к океану."
   ]
  },
  {
   "cell_type": "markdown",
   "id": "53871372",
   "metadata": {
    "id": "53871372"
   },
   "source": [
    "# Подготовка данных"
   ]
  },
  {
   "cell_type": "markdown",
   "id": "51d20582",
   "metadata": {},
   "source": [
    "- Инициализируйте локальную Spark-сессию.\n",
    "- Прочитайте содержимое файла /datasets/housing.csv.\n",
    "- Выведите типы данных колонок датасета. Используйте методы pySpark.\n",
    "- Выполните предобработку данных:\n",
    "    - Исследуйте данные на наличие пропусков и заполните их, выбрав значения по своему усмотрению.\n",
    "    - Преобразуйте колонку с категориальными значениями техникой One hot encoding."
   ]
  },
  {
   "cell_type": "code",
   "execution_count": 3,
   "id": "df92e3ec",
   "metadata": {
    "id": "df92e3ec"
   },
   "outputs": [],
   "source": []
  },
  {
   "cell_type": "markdown",
   "id": "9f0a82f3",
   "metadata": {
    "id": "9f0a82f3"
   },
   "source": [
    "# Обучение моделей"
   ]
  },
  {
   "cell_type": "markdown",
   "id": "b92225e4",
   "metadata": {},
   "source": [
    "- Постройте две модели линейной регрессии на разных наборах данных:\n",
    "    - используя все данные из файла;\n",
    "    - используя только числовые переменные, исключив категориальные.\n",
    "- Для построения модели используйте оценщик LinearRegression из библиотеки MLlib."
   ]
  },
  {
   "cell_type": "code",
   "execution_count": null,
   "id": "bddb08c4",
   "metadata": {
    "id": "bddb08c4"
   },
   "outputs": [],
   "source": []
  },
  {
   "cell_type": "markdown",
   "id": "757fd103",
   "metadata": {
    "id": "757fd103"
   },
   "source": [
    "# Анализ результатов"
   ]
  },
  {
   "cell_type": "markdown",
   "id": "c741b2ce",
   "metadata": {},
   "source": [
    "- Сравните результаты работы линейной регрессии на двух наборах данных по метрикам RMSE, MAE и R2. \n",
    "- Сделайте выводы."
   ]
  }
 ],
 "metadata": {
  "ExecuteTimeLog": [
   {
    "duration": 569,
    "start_time": "2022-06-24T08:19:40.839Z"
   },
   {
    "duration": 54,
    "start_time": "2022-06-24T08:19:55.173Z"
   },
   {
    "duration": 528,
    "start_time": "2022-06-24T08:20:23.987Z"
   }
  ],
  "colab": {
   "name": "PySparkSprint.ipynb",
   "provenance": []
  },
  "kernelspec": {
   "display_name": "Python 3 (ipykernel)",
   "language": "python",
   "name": "python3"
  },
  "language_info": {
   "codemirror_mode": {
    "name": "ipython",
    "version": 3
   },
   "file_extension": ".py",
   "mimetype": "text/x-python",
   "name": "python",
   "nbconvert_exporter": "python",
   "pygments_lexer": "ipython3",
   "version": "3.9.12"
  },
  "toc": {
   "base_numbering": 1,
   "nav_menu": {},
   "number_sections": true,
   "sideBar": true,
   "skip_h1_title": true,
   "title_cell": "Table of Contents",
   "title_sidebar": "Contents",
   "toc_cell": false,
   "toc_position": {},
   "toc_section_display": true,
   "toc_window_display": false
  }
 },
 "nbformat": 4,
 "nbformat_minor": 5
}
