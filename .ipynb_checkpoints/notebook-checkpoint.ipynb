{
 "cells": [
  {
   "cell_type": "markdown",
   "id": "GEqQaHzsZ_bA",
   "metadata": {
    "id": "GEqQaHzsZ_bA",
    "tags": []
   },
   "source": [
    "## Предсказание стоимости жилья\n",
    "\n",
    "В проекте вам нужно обучить модель линейной регрессии на данных о жилье в Калифорнии в 1990 году. На основе данных нужно предсказать медианную стоимость дома в жилом массиве — median_house_value. Обучите модель и сделайте предсказания на тестовой выборке. Для оценки качества модели используйте метрики RMSE, MAE и R2.\n",
    "\n",
    "В колонках датасета содержатся следующие данные:\n",
    "- longitude — широта;\n",
    "- latitude — долгота;\n",
    "- housing_median_age — медианный возраст жителей жилого массива;\n",
    "- total_rooms — общее количество комнат в домах жилого массива;\n",
    "- total_bedrooms — общее количество спален в домах жилого массива;\n",
    "- population — количество человек, которые проживают в жилом массиве;\n",
    "- households — количество домовладений в жилом массиве;\n",
    "- median_income — медианный доход жителей жилого массива;\n",
    "- median_house_value — медианная стоимость дома в жилом массиве;\n",
    "- ocean_proximity — близость к океану."
   ]
  },
  {
   "cell_type": "markdown",
   "id": "53871372",
   "metadata": {
    "id": "53871372"
   },
   "source": [
    "# Подготовка данных"
   ]
  },
  {
   "cell_type": "markdown",
   "id": "a7c5ded7-d9e1-4f8f-afa7-6fafbcbe53c8",
   "metadata": {},
   "source": [
    "Импортируем необходимые модули."
   ]
  },
  {
   "cell_type": "code",
   "execution_count": 1,
   "id": "a1d809cb-b482-46f5-8cb7-45cb1ab32cb6",
   "metadata": {},
   "outputs": [],
   "source": [
    "import pandas as pd \n",
    "import numpy as np\n",
    "import pyspark\n",
    "from pyspark.sql import SparkSession\n",
    "from pyspark.sql.types import *\n",
    "import pyspark.sql.functions as F\n",
    "from pyspark.ml.feature import StringIndexer, VectorAssembler, StandardScaler, OneHotEncoder\n",
    "from pyspark.ml import Pipeline\n",
    "from pyspark.ml.regression import LinearRegression\n",
    "from pyspark.ml.evaluation import RegressionEvaluator\n",
    "import pyspark.ml.tuning as tune"
   ]
  },
  {
   "cell_type": "markdown",
   "id": "c2269d21",
   "metadata": {},
   "source": [
    "Введем константы."
   ]
  },
  {
   "cell_type": "code",
   "execution_count": 2,
   "id": "b8bbdb08",
   "metadata": {},
   "outputs": [],
   "source": [
    "SEED = 515"
   ]
  },
  {
   "cell_type": "markdown",
   "id": "1a27b068-8230-4586-b844-dbffab8947cb",
   "metadata": {},
   "source": [
    "Создадим локальную Spark-сесссию."
   ]
  },
  {
   "cell_type": "code",
   "execution_count": 3,
   "id": "7f7e5124-dbad-44ef-9a8d-ca6188bc8f97",
   "metadata": {},
   "outputs": [],
   "source": [
    "spark = SparkSession.builder \\\n",
    "                    .master('local[*]') \\\n",
    "                    .appName('California Housing') \\\n",
    "                    .getOrCreate()"
   ]
  },
  {
   "cell_type": "markdown",
   "id": "4ac05f92",
   "metadata": {},
   "source": [
    "Загрузим данные."
   ]
  },
  {
   "cell_type": "code",
   "execution_count": 4,
   "id": "a8d7b3f7",
   "metadata": {},
   "outputs": [],
   "source": [
    "file_path = 'datasets/housing.csv'\n",
    "\n",
    "housing = spark.read.load(file_path, format='csv', sep=',', inferSchema=True, header='true')"
   ]
  },
  {
   "cell_type": "markdown",
   "id": "a20f17a7",
   "metadata": {},
   "source": [
    "Выведем информацию на экран."
   ]
  },
  {
   "cell_type": "code",
   "execution_count": 5,
   "id": "aecd3a38",
   "metadata": {},
   "outputs": [
    {
     "name": "stdout",
     "output_type": "stream",
     "text": [
      "+---------+--------+------------------+-----------+--------------+----------+----------+-------------+------------------+---------------+\n",
      "|longitude|latitude|housing_median_age|total_rooms|total_bedrooms|population|households|median_income|median_house_value|ocean_proximity|\n",
      "+---------+--------+------------------+-----------+--------------+----------+----------+-------------+------------------+---------------+\n",
      "|  -122.23|   37.88|              41.0|      880.0|         129.0|     322.0|     126.0|       8.3252|          452600.0|       NEAR BAY|\n",
      "|  -122.22|   37.86|              21.0|     7099.0|        1106.0|    2401.0|    1138.0|       8.3014|          358500.0|       NEAR BAY|\n",
      "|  -122.24|   37.85|              52.0|     1467.0|         190.0|     496.0|     177.0|       7.2574|          352100.0|       NEAR BAY|\n",
      "|  -122.25|   37.85|              52.0|     1274.0|         235.0|     558.0|     219.0|       5.6431|          341300.0|       NEAR BAY|\n",
      "|  -122.25|   37.85|              52.0|     1627.0|         280.0|     565.0|     259.0|       3.8462|          342200.0|       NEAR BAY|\n",
      "+---------+--------+------------------+-----------+--------------+----------+----------+-------------+------------------+---------------+\n",
      "only showing top 5 rows\n",
      "\n",
      "Number of rows: 20640\n",
      "Number of distinct rows: 20640\n"
     ]
    }
   ],
   "source": [
    "housing.show(5)\n",
    "print('Number of rows:', housing.count())\n",
    "print('Number of distinct rows:', housing.distinct().count())"
   ]
  },
  {
   "cell_type": "markdown",
   "id": "a01992fb-9990-4f48-b71b-c2a119e3bd5e",
   "metadata": {},
   "source": [
    "Выведем пропущенные значения в каждой колонке."
   ]
  },
  {
   "cell_type": "code",
   "execution_count": 6,
   "id": "823c234d-0a79-4261-b13e-207775662228",
   "metadata": {},
   "outputs": [
    {
     "name": "stdout",
     "output_type": "stream",
     "text": [
      "+---------+--------+------------------+-----------+--------------+----------+----------+-------------+------------------+---------------+\n",
      "|longitude|latitude|housing_median_age|total_rooms|total_bedrooms|population|households|median_income|median_house_value|ocean_proximity|\n",
      "+---------+--------+------------------+-----------+--------------+----------+----------+-------------+------------------+---------------+\n",
      "|        0|       0|                 0|          0|           207|         0|         0|            0|                 0|              0|\n",
      "+---------+--------+------------------+-----------+--------------+----------+----------+-------------+------------------+---------------+\n",
      "\n"
     ]
    }
   ],
   "source": [
    "def nan_count(df):\n",
    "    return df.select([F.count(F.when(F.isnan(c) | F.col(c).isNull(), c)).alias(c) for c in df.columns]).show()\n",
    "\n",
    "nan_count(housing)"
   ]
  },
  {
   "cell_type": "markdown",
   "id": "409fe371-b180-49ca-bf23-7683163aa810",
   "metadata": {},
   "source": [
    "Заменим пропущенные значения нулем. Возможно, что они образовались в результате их незаполнения по причине отсутствия спальни."
   ]
  },
  {
   "cell_type": "code",
   "execution_count": 7,
   "id": "a55659ea-5016-40be-b029-844cb4425d8e",
   "metadata": {},
   "outputs": [],
   "source": [
    "housing = housing.na.fill(0)"
   ]
  },
  {
   "cell_type": "markdown",
   "id": "1bab0eb9-b6b2-4fe4-a7db-2222c9bfee6d",
   "metadata": {},
   "source": [
    "Создадим несколько новых столбцов с признаками:\n",
    "- Отношение количества комнат total_rooms к количеству домовладений households (rooms_per_household).\n",
    "- Отношение количества жителей population к количеству домовладений households (population_in_household).\n",
    "- Отношение количества спален total_bedrooms к общему количеству комнат total_rooms (bedroom_index)."
   ]
  },
  {
   "cell_type": "code",
   "execution_count": 8,
   "id": "70fb0ddd-32e8-48af-9de8-9afe9b2dee32",
   "metadata": {},
   "outputs": [
    {
     "name": "stdout",
     "output_type": "stream",
     "text": [
      "root\n",
      " |-- longitude: double (nullable = false)\n",
      " |-- latitude: double (nullable = false)\n",
      " |-- housing_median_age: double (nullable = false)\n",
      " |-- total_rooms: double (nullable = false)\n",
      " |-- total_bedrooms: double (nullable = false)\n",
      " |-- population: double (nullable = false)\n",
      " |-- households: double (nullable = false)\n",
      " |-- median_income: double (nullable = false)\n",
      " |-- median_house_value: double (nullable = false)\n",
      " |-- ocean_proximity: string (nullable = true)\n",
      " |-- rooms_per_household: double (nullable = true)\n",
      " |-- population_in_household: double (nullable = true)\n",
      " |-- bedroom_index: double (nullable = true)\n",
      "\n"
     ]
    }
   ],
   "source": [
    "housing = housing.withColumn('rooms_per_household', F.col('total_rooms') / F.col('households')) \\\n",
    "                 .withColumn('population_in_household', F.col('population') / F.col('households')) \\\n",
    "                 .withColumn('bedroom_index', F.col('total_bedrooms') / F.col('total_rooms'))\n",
    "\n",
    "housing.printSchema()"
   ]
  },
  {
   "cell_type": "markdown",
   "id": "d4b436bd-5107-4428-b899-28ede1a5517c",
   "metadata": {},
   "source": [
    "Удалим столбцы с координатами домов и проверим наличие пропущенных значений после обработки."
   ]
  },
  {
   "cell_type": "code",
   "execution_count": 9,
   "id": "08919cff-5a48-4d8d-8564-a6897e711190",
   "metadata": {},
   "outputs": [
    {
     "name": "stdout",
     "output_type": "stream",
     "text": [
      "+------------------+-----------+--------------+----------+----------+-------------+------------------+---------------+-------------------+-----------------------+-------------------+\n",
      "|housing_median_age|total_rooms|total_bedrooms|population|households|median_income|median_house_value|ocean_proximity|rooms_per_household|population_in_household|      bedroom_index|\n",
      "+------------------+-----------+--------------+----------+----------+-------------+------------------+---------------+-------------------+-----------------------+-------------------+\n",
      "|              41.0|      880.0|         129.0|     322.0|     126.0|       8.3252|          452600.0|       NEAR BAY|  6.984126984126984|     2.5555555555555554|0.14659090909090908|\n",
      "|              21.0|     7099.0|        1106.0|    2401.0|    1138.0|       8.3014|          358500.0|       NEAR BAY|  6.238137082601054|      2.109841827768014|0.15579659106916466|\n",
      "|              52.0|     1467.0|         190.0|     496.0|     177.0|       7.2574|          352100.0|       NEAR BAY|  8.288135593220339|     2.8022598870056497|0.12951601908657123|\n",
      "|              52.0|     1274.0|         235.0|     558.0|     219.0|       5.6431|          341300.0|       NEAR BAY| 5.8173515981735155|      2.547945205479452|0.18445839874411302|\n",
      "|              52.0|     1627.0|         280.0|     565.0|     259.0|       3.8462|          342200.0|       NEAR BAY|  6.281853281853282|     2.1814671814671813| 0.1720958819913952|\n",
      "+------------------+-----------+--------------+----------+----------+-------------+------------------+---------------+-------------------+-----------------------+-------------------+\n",
      "only showing top 5 rows\n",
      "\n",
      "+------------------+-----------+--------------+----------+----------+-------------+------------------+---------------+-------------------+-----------------------+-------------+\n",
      "|housing_median_age|total_rooms|total_bedrooms|population|households|median_income|median_house_value|ocean_proximity|rooms_per_household|population_in_household|bedroom_index|\n",
      "+------------------+-----------+--------------+----------+----------+-------------+------------------+---------------+-------------------+-----------------------+-------------+\n",
      "|                 0|          0|             0|         0|         0|            0|                 0|              0|                  0|                      0|            0|\n",
      "+------------------+-----------+--------------+----------+----------+-------------+------------------+---------------+-------------------+-----------------------+-------------+\n",
      "\n"
     ]
    }
   ],
   "source": [
    "housing = housing.drop('longitude', 'latitude')\n",
    "housing.show(5)\n",
    "\n",
    "nan_count(housing)"
   ]
  },
  {
   "cell_type": "markdown",
   "id": "fa04b42e-f1e2-4ea5-80c5-a73db78ffdb2",
   "metadata": {},
   "source": [
    "В результате подготовки данных заменены пропущенные значения и добавлены новые признаки."
   ]
  },
  {
   "cell_type": "markdown",
   "id": "9f0a82f3",
   "metadata": {
    "id": "9f0a82f3"
   },
   "source": [
    "# Обучение моделей"
   ]
  },
  {
   "cell_type": "markdown",
   "id": "b92225e4",
   "metadata": {},
   "source": [
    "Разделим признаки на числовые и категориальные, а также исходный датасет на тренировочную и тестовую части."
   ]
  },
  {
   "cell_type": "code",
   "execution_count": 10,
   "id": "02f71082-960b-4c6f-8f43-0eddd7b0ff42",
   "metadata": {},
   "outputs": [],
   "source": [
    "num_cols = ['housing_median_age', 'total_rooms', 'total_bedrooms', 'population', \n",
    "            'households', 'median_income', 'rooms_per_household', \n",
    "            'population_in_household', 'bedroom_index']\n",
    "cat_col = 'ocean_proximity'\n",
    "housing = housing.withColumnRenamed('median_house_value', 'label')\n",
    "train, test = housing.randomSplit([0.8, 0.2], seed=SEED)"
   ]
  },
  {
   "cell_type": "markdown",
   "id": "d898f5b9-f53b-4a77-b130-dca1872bd31d",
   "metadata": {},
   "source": [
    "Создадим конвейер для трансформации признаков и подгонки модели."
   ]
  },
  {
   "cell_type": "code",
   "execution_count": 11,
   "id": "c79caf08-2149-47c1-9355-ed424dfe411c",
   "metadata": {},
   "outputs": [],
   "source": [
    "ocean_proximity_indexer = StringIndexer(inputCol=cat_col, \n",
    "                                        outputCol=cat_col+'_idx')\n",
    "\n",
    "ocean_proximity_encoder = OneHotEncoder(inputCol=cat_col+'_idx', \n",
    "                                        outputCol=cat_col+'_ohe')\n",
    "\n",
    "cat_assembler = VectorAssembler(inputCols=[cat_col+'_ohe'],\n",
    "                                outputCol='cat_features')\n",
    "\n",
    "num_assembler = VectorAssembler(inputCols=num_cols, outputCol='num_features')\n",
    "\n",
    "standardScaler = StandardScaler(inputCol='num_features', outputCol='num_features_scaled')\n",
    "\n",
    "vec_assembler_all_cols = VectorAssembler(inputCols=['cat_features', 'num_features_scaled'], outputCol='features')\n",
    "vec_assembler_num_cols = VectorAssembler(inputCols=['num_features_scaled'], outputCol='features')\n",
    "\n",
    "lr = LinearRegression()\n",
    "\n",
    "housing_pipe_all_cols = Pipeline(stages=[ocean_proximity_indexer, ocean_proximity_encoder, cat_assembler, \n",
    "                                         num_assembler, standardScaler, vec_assembler_all_cols, lr])\n",
    "housing_pipe_num_cols = Pipeline(stages=[num_assembler, standardScaler, vec_assembler_num_cols, lr])"
   ]
  },
  {
   "cell_type": "markdown",
   "id": "390c8a14-74c2-4924-87da-f9cfb64f457c",
   "metadata": {},
   "source": [
    "Создадим объекты для подбора гиперпараметров модели с помощью кросс-валидации."
   ]
  },
  {
   "cell_type": "code",
   "execution_count": 12,
   "id": "530399e2-1d6d-4ddf-8955-c128f6ff5ed3",
   "metadata": {},
   "outputs": [],
   "source": [
    "evaluator = RegressionEvaluator(metricName='rmse')\n",
    "\n",
    "grid = tune.ParamGridBuilder()\n",
    "grid = grid.addGrid(lr.regParam, [1000, 100, 10, 1, 0, 0.1, 0.01, 0.001])\n",
    "grid = grid.addGrid(lr.elasticNetParam, [0, 1])\n",
    "grid = grid.build()\n",
    "\n",
    "cv_all_cols = tune.CrossValidator(estimator=housing_pipe_all_cols,\n",
    "                         estimatorParamMaps=grid,\n",
    "                         evaluator=evaluator,\n",
    "                         numFolds=5,\n",
    "                         parallelism=6,\n",
    "                         seed=SEED)\n",
    "\n",
    "cv_num_cols = tune.CrossValidator(estimator=housing_pipe_num_cols,\n",
    "                         estimatorParamMaps=grid,\n",
    "                         evaluator=evaluator,\n",
    "                         numFolds=5,\n",
    "                         parallelism=6,\n",
    "                         seed=SEED)"
   ]
  },
  {
   "cell_type": "markdown",
   "id": "8bd04b1b-7ae2-4bd1-9229-cfd42eeac4d5",
   "metadata": {},
   "source": [
    " Подберем гиперпараметры модели на тренировочном датасете со всеми признаками и выберем лучшую модель."
   ]
  },
  {
   "cell_type": "code",
   "execution_count": 13,
   "id": "924f8d55",
   "metadata": {
    "scrolled": true
   },
   "outputs": [
    {
     "name": "stdout",
     "output_type": "stream",
     "text": [
      "* Величина rmse на тренировочном датасете\n",
      "68997.35098272265\n",
      "* Гиперпараметры лучшей модели:\n",
      "regParam: regularization parameter (>= 0). (default: 0.0, current: 1.0)\n",
      "elasticNetParam: the ElasticNet mixing parameter, in range [0, 1]. For alpha = 0, the penalty is an L2 penalty. For alpha = 1, it is an L1 penalty. (default: 0.0, current: 0.0)\n"
     ]
    }
   ],
   "source": [
    "models_all_cols = cv_all_cols.fit(train)\n",
    "best_lr_all_cols = models_all_cols.bestModel\n",
    "\n",
    "print('* Величина rmse на тренировочном датасете')\n",
    "print(best_lr_all_cols.stages[6].summary.rootMeanSquaredError)\n",
    "\n",
    "print('* Гиперпараметры лучшей модели:')\n",
    "print(best_lr_all_cols.stages[6].explainParam(lr.regParam))\n",
    "print(best_lr_all_cols.stages[6].explainParam(lr.elasticNetParam))"
   ]
  },
  {
   "cell_type": "markdown",
   "id": "a961aa09",
   "metadata": {},
   "source": [
    "Получим предсказание на тестовом датасете со всеми признаками и вычислим значения необходимых метрик."
   ]
  },
  {
   "cell_type": "code",
   "execution_count": 14,
   "id": "b131f435",
   "metadata": {},
   "outputs": [
    {
     "name": "stdout",
     "output_type": "stream",
     "text": [
      "* Величины метрик для датасета со всеми признаками:\n",
      "rmse = 70636.97641005708\n",
      "mae = 49636.05277072887\n",
      "r2 = 0.622014301601133\n"
     ]
    }
   ],
   "source": [
    "test_results_all_cols = best_lr_all_cols.transform(test)\n",
    "\n",
    "print('* Величины метрик для датасета со всеми признаками:')\n",
    "for metric in ['rmse', 'mae', 'r2']:\n",
    "    print(metric+' =', RegressionEvaluator(metricName=metric)\n",
    "                       .evaluate(test_results_all_cols))"
   ]
  },
  {
   "cell_type": "markdown",
   "id": "6429833c",
   "metadata": {},
   "source": [
    "Подберем гиперпараметры модели на тренировочном датасете только с числовыми признаками и выберем лучшую модель."
   ]
  },
  {
   "cell_type": "code",
   "execution_count": 15,
   "id": "be6efbab-110b-4d08-a88b-fff44002b457",
   "metadata": {},
   "outputs": [
    {
     "name": "stdout",
     "output_type": "stream",
     "text": [
      "* Величина rmse на тренировочном датасете\n",
      "74589.05777642179\n",
      "* Гиперпараметры лучшей модели:\n",
      "regParam: regularization parameter (>= 0). (default: 0.0, current: 100.0)\n",
      "elasticNetParam: the ElasticNet mixing parameter, in range [0, 1]. For alpha = 0, the penalty is an L2 penalty. For alpha = 1, it is an L1 penalty. (default: 0.0, current: 1.0)\n"
     ]
    }
   ],
   "source": [
    "models_num_cols = cv_num_cols.fit(train)\n",
    "best_lr_num_cols = models_num_cols.bestModel\n",
    "\n",
    "print('* Величина rmse на тренировочном датасете')\n",
    "print(best_lr_num_cols.stages[3].summary.rootMeanSquaredError)\n",
    "\n",
    "print('* Гиперпараметры лучшей модели:')\n",
    "print(best_lr_num_cols.stages[3].explainParam(lr.regParam))\n",
    "print(best_lr_num_cols.stages[3].explainParam(lr.elasticNetParam))"
   ]
  },
  {
   "cell_type": "markdown",
   "id": "63287599",
   "metadata": {},
   "source": [
    "Получим предсказание на тестовом датасете только с числовыми признаками и вычислим значения необходимых метрик."
   ]
  },
  {
   "cell_type": "code",
   "execution_count": 16,
   "id": "1e6950cb",
   "metadata": {},
   "outputs": [
    {
     "name": "stdout",
     "output_type": "stream",
     "text": [
      "** Величины метрик для датасета только с числовыми признаками:\n",
      "rmse = 75659.5798555686\n",
      "mae = 54721.94809752035\n",
      "r2 = 0.5663503339294567\n"
     ]
    }
   ],
   "source": [
    "test_results_num_cols = best_lr_num_cols.transform(test)\n",
    "\n",
    "print('** Величины метрик для датасета только с числовыми признаками:')\n",
    "for metric in ['rmse', 'mae', 'r2']:\n",
    "    print(metric+' =', RegressionEvaluator(metricName=metric)\n",
    "                       .evaluate(test_results_num_cols))"
   ]
  },
  {
   "cell_type": "code",
   "execution_count": 17,
   "id": "20a01a89-f0c2-4edf-8cf3-6433e3e86b4c",
   "metadata": {},
   "outputs": [],
   "source": [
    "# отключим соединение со Spark\n",
    "spark.stop()"
   ]
  },
  {
   "cell_type": "markdown",
   "id": "757fd103",
   "metadata": {
    "id": "757fd103"
   },
   "source": [
    "# Анализ результатов"
   ]
  },
  {
   "cell_type": "markdown",
   "id": "c741b2ce",
   "metadata": {},
   "source": [
    "- В работе получены предсказания стоимости жилья с помощью моделей линейной регрессии библиотеки PySpark.\n",
    "- Модель полученная, на основе датасета со всеми признаками (качественные и количественные) обладает лучшей предсказательной способность, о чем говорит меньшая величина метрик rmse и mae, а также увеличение метрики r2.\n",
    "- Метрика rmse примерно в 1,5 раза превосходит mae, что говорит о наличии экстремальных значений в датасете (жилье высокой стоимости), которые могут завышать значения rmse."
   ]
  },
  {
   "cell_type": "code",
   "execution_count": null,
   "id": "d00590fc",
   "metadata": {},
   "outputs": [],
   "source": []
  }
 ],
 "metadata": {
  "ExecuteTimeLog": [
   {
    "duration": 569,
    "start_time": "2022-06-24T08:19:40.839Z"
   },
   {
    "duration": 54,
    "start_time": "2022-06-24T08:19:55.173Z"
   },
   {
    "duration": 528,
    "start_time": "2022-06-24T08:20:23.987Z"
   },
   {
    "duration": 1265,
    "start_time": "2022-06-28T06:57:33.104Z"
   },
   {
    "duration": 42133,
    "start_time": "2022-06-28T06:57:34.375Z"
   },
   {
    "duration": 0,
    "start_time": "2022-06-28T06:58:16.511Z"
   },
   {
    "duration": 0,
    "start_time": "2022-06-28T06:58:16.513Z"
   },
   {
    "duration": 0,
    "start_time": "2022-06-28T06:58:16.514Z"
   },
   {
    "duration": 0,
    "start_time": "2022-06-28T06:58:16.515Z"
   },
   {
    "duration": 0,
    "start_time": "2022-06-28T06:58:16.516Z"
   },
   {
    "duration": 0,
    "start_time": "2022-06-28T06:58:16.517Z"
   },
   {
    "duration": 0,
    "start_time": "2022-06-28T06:58:16.518Z"
   },
   {
    "duration": 0,
    "start_time": "2022-06-28T06:58:16.520Z"
   },
   {
    "duration": 0,
    "start_time": "2022-06-28T06:58:16.521Z"
   },
   {
    "duration": 0,
    "start_time": "2022-06-28T06:58:16.523Z"
   },
   {
    "duration": 22160,
    "start_time": "2022-06-28T07:06:52.972Z"
   },
   {
    "duration": 1898,
    "start_time": "2022-06-28T07:07:15.134Z"
   },
   {
    "duration": 1230,
    "start_time": "2022-06-28T07:08:49.153Z"
   },
   {
    "duration": 229,
    "start_time": "2022-06-28T07:08:50.429Z"
   },
   {
    "duration": 121,
    "start_time": "2022-06-28T07:08:50.659Z"
   },
   {
    "duration": 2439,
    "start_time": "2022-06-28T07:08:50.832Z"
   },
   {
    "duration": 108,
    "start_time": "2022-06-28T07:08:53.274Z"
   },
   {
    "duration": 7960,
    "start_time": "2022-06-28T07:08:53.385Z"
   },
   {
    "duration": 2045,
    "start_time": "2022-06-28T07:09:01.347Z"
   },
   {
    "duration": 70279,
    "start_time": "2022-06-28T07:09:03.395Z"
   },
   {
    "duration": 48520,
    "start_time": "2022-06-28T07:10:13.676Z"
   },
   {
    "duration": 478,
    "start_time": "2022-06-28T07:11:02.200Z"
   },
   {
    "duration": 947,
    "start_time": "2022-06-28T07:11:02.684Z"
   },
   {
    "duration": 16,
    "start_time": "2022-06-28T07:28:14.164Z"
   },
   {
    "duration": 381,
    "start_time": "2022-06-28T07:28:27.106Z"
   },
   {
    "duration": 10,
    "start_time": "2022-06-28T07:29:49.947Z"
   },
   {
    "duration": 5,
    "start_time": "2022-06-28T07:29:59.299Z"
   },
   {
    "duration": 16,
    "start_time": "2022-06-28T07:30:12.122Z"
   },
   {
    "duration": 8,
    "start_time": "2022-06-28T07:30:25.906Z"
   },
   {
    "duration": 9,
    "start_time": "2022-06-28T07:30:31.251Z"
   },
   {
    "duration": 4,
    "start_time": "2022-06-28T07:47:52.675Z"
   },
   {
    "duration": 7,
    "start_time": "2022-06-28T07:48:55.490Z"
   },
   {
    "duration": 7,
    "start_time": "2022-06-28T07:49:55.751Z"
   },
   {
    "duration": 4,
    "start_time": "2022-06-28T07:50:01.012Z"
   },
   {
    "duration": 5,
    "start_time": "2022-06-28T07:50:15.411Z"
   },
   {
    "duration": 10,
    "start_time": "2022-06-28T07:50:37.346Z"
   },
   {
    "duration": 5,
    "start_time": "2022-06-28T07:50:46.491Z"
   },
   {
    "duration": 91,
    "start_time": "2022-06-28T17:52:11.106Z"
   }
  ],
  "colab": {
   "name": "PySparkSprint.ipynb",
   "provenance": []
  },
  "kernelspec": {
   "display_name": "Python 3 (ipykernel)",
   "language": "python",
   "name": "python3"
  },
  "language_info": {
   "codemirror_mode": {
    "name": "ipython",
    "version": 3
   },
   "file_extension": ".py",
   "mimetype": "text/x-python",
   "name": "python",
   "nbconvert_exporter": "python",
   "pygments_lexer": "ipython3",
   "version": "3.9.12"
  },
  "toc": {
   "base_numbering": 1,
   "nav_menu": {},
   "number_sections": true,
   "sideBar": true,
   "skip_h1_title": true,
   "title_cell": "Table of Contents",
   "title_sidebar": "Contents",
   "toc_cell": false,
   "toc_position": {},
   "toc_section_display": true,
   "toc_window_display": false
  }
 },
 "nbformat": 4,
 "nbformat_minor": 5
}
