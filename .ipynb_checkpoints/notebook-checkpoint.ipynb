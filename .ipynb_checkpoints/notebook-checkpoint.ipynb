{
 "cells": [
  {
   "cell_type": "markdown",
   "id": "GEqQaHzsZ_bA",
   "metadata": {
    "id": "GEqQaHzsZ_bA"
   },
   "source": [
    "## Предсказание стоимости жилья\n",
    "\n",
    "В проекте вам нужно обучить модель линейной регрессии на данных о жилье в Калифорнии в 1990 году. На основе данных нужно предсказать медианную стоимость дома в жилом массиве — median_house_value. Обучите модель и сделайте предсказания на тестовой выборке. Для оценки качества модели используйте метрики RMSE, MAE и R2.\n",
    "\n",
    "В колонках датасета содержатся следующие данные:\n",
    "- longitude — широта;\n",
    "- latitude — долгота;\n",
    "- housing_median_age — медианный возраст жителей жилого массива;\n",
    "- total_rooms — общее количество комнат в домах жилого массива;\n",
    "- total_bedrooms — общее количество спален в домах жилого массива;\n",
    "- population — количество человек, которые проживают в жилом массиве;\n",
    "- households — количество домовладений в жилом массиве;\n",
    "- median_income — медианный доход жителей жилого массива;\n",
    "- median_house_value — медианная стоимость дома в жилом массиве;\n",
    "- ocean_proximity — близость к океану."
   ]
  },
  {
   "cell_type": "markdown",
   "id": "53871372",
   "metadata": {
    "id": "53871372"
   },
   "source": [
    "# Подготовка данных"
   ]
  },
  {
   "cell_type": "markdown",
   "id": "51d20582",
   "metadata": {},
   "source": [
    "- Инициализируйте локальную Spark-сессию.\n",
    "- Прочитайте содержимое файла /datasets/housing.csv.\n",
    "- Выведите типы данных колонок датасета. Используйте методы pySpark.\n",
    "- Выполните предобработку данных:\n",
    "    - Исследуйте данные на наличие пропусков и заполните их, выбрав значения по своему усмотрению.\n",
    "    - Преобразуйте колонку с категориальными значениями техникой One hot encoding."
   ]
  },
  {
   "cell_type": "markdown",
   "id": "a7c5ded7-d9e1-4f8f-afa7-6fafbcbe53c8",
   "metadata": {},
   "source": [
    "Импортируем необходимые модули."
   ]
  },
  {
   "cell_type": "code",
   "execution_count": 1,
   "id": "a1d809cb-b482-46f5-8cb7-45cb1ab32cb6",
   "metadata": {},
   "outputs": [],
   "source": [
    "import pandas as pd \n",
    "import numpy as np\n",
    "import pyspark\n",
    "from pyspark.sql import SparkSession\n",
    "from pyspark.sql.types import *\n",
    "import pyspark.sql.functions as F\n",
    "from pyspark.ml import Pipeline\n",
    "# from pyspark.ml.classification import LogisticRegression\n",
    "import pyspark.ml.evaluation as evals\n",
    "import pyspark.ml.tuning as tune"
   ]
  },
  {
   "cell_type": "markdown",
   "id": "1a27b068-8230-4586-b844-dbffab8947cb",
   "metadata": {},
   "source": [
    "Создадими локальную Spark-сесссию и загрузим датасет."
   ]
  },
  {
   "cell_type": "code",
   "execution_count": 2,
   "id": "7f7e5124-dbad-44ef-9a8d-ca6188bc8f97",
   "metadata": {},
   "outputs": [
    {
     "name": "stdout",
     "output_type": "stream",
     "text": [
      "+---------+--------+------------------+-----------+--------------+----------+----------+-------------+------------------+---------------+\n",
      "|longitude|latitude|housing_median_age|total_rooms|total_bedrooms|population|households|median_income|median_house_value|ocean_proximity|\n",
      "+---------+--------+------------------+-----------+--------------+----------+----------+-------------+------------------+---------------+\n",
      "|  -122.23|   37.88|              41.0|      880.0|         129.0|     322.0|     126.0|       8.3252|          452600.0|       NEAR BAY|\n",
      "|  -122.22|   37.86|              21.0|     7099.0|        1106.0|    2401.0|    1138.0|       8.3014|          358500.0|       NEAR BAY|\n",
      "|  -122.24|   37.85|              52.0|     1467.0|         190.0|     496.0|     177.0|       7.2574|          352100.0|       NEAR BAY|\n",
      "|  -122.25|   37.85|              52.0|     1274.0|         235.0|     558.0|     219.0|       5.6431|          341300.0|       NEAR BAY|\n",
      "|  -122.25|   37.85|              52.0|     1627.0|         280.0|     565.0|     259.0|       3.8462|          342200.0|       NEAR BAY|\n",
      "+---------+--------+------------------+-----------+--------------+----------+----------+-------------+------------------+---------------+\n",
      "only showing top 5 rows\n",
      "\n",
      "Number of rows: 20640\n",
      "Number of distinct rows: 20640\n"
     ]
    }
   ],
   "source": [
    "spark = SparkSession.builder \\\n",
    "                    .master(\"local[*]\") \\\n",
    "                    .appName(\"California Housing\") \\\n",
    "                    .getOrCreate()\n",
    "\n",
    "file_path = \"datasets/housing.csv\"\n",
    "\n",
    "housing = spark.read.load(file_path, format='csv', sep=',', inferSchema=True, header='true')\n",
    "housing.show(5)\n",
    "print('Number of rows:', housing.count())\n",
    "print('Number of distinct rows:', housing.distinct().count())"
   ]
  },
  {
   "cell_type": "markdown",
   "id": "a01992fb-9990-4f48-b71b-c2a119e3bd5e",
   "metadata": {},
   "source": [
    "Выведем пропущенные значения в каждой колонке."
   ]
  },
  {
   "cell_type": "code",
   "execution_count": 3,
   "id": "823c234d-0a79-4261-b13e-207775662228",
   "metadata": {},
   "outputs": [
    {
     "name": "stdout",
     "output_type": "stream",
     "text": [
      "+---------+--------+------------------+-----------+--------------+----------+----------+-------------+------------------+---------------+\n",
      "|longitude|latitude|housing_median_age|total_rooms|total_bedrooms|population|households|median_income|median_house_value|ocean_proximity|\n",
      "+---------+--------+------------------+-----------+--------------+----------+----------+-------------+------------------+---------------+\n",
      "|        0|       0|                 0|          0|           207|         0|         0|            0|                 0|              0|\n",
      "+---------+--------+------------------+-----------+--------------+----------+----------+-------------+------------------+---------------+\n",
      "\n"
     ]
    }
   ],
   "source": [
    "def nan_count(df):\n",
    "    return df.select([F.count(F.when(F.isnan(c) | F.col(c).isNull(), c)).alias(c) for c in df.columns]).show()\n",
    "\n",
    "nan_count(housing)"
   ]
  },
  {
   "cell_type": "markdown",
   "id": "409fe371-b180-49ca-bf23-7683163aa810",
   "metadata": {},
   "source": [
    "Заменим пропущенные значения нулем. Возможно, что они образовались в результате их незаполнения по причине отсутствия ванной комнаты."
   ]
  },
  {
   "cell_type": "code",
   "execution_count": 4,
   "id": "a55659ea-5016-40be-b029-844cb4425d8e",
   "metadata": {},
   "outputs": [],
   "source": [
    "housing = housing.na.fill(0)"
   ]
  },
  {
   "cell_type": "markdown",
   "id": "1bab0eb9-b6b2-4fe4-a7db-2222c9bfee6d",
   "metadata": {},
   "source": [
    "Создадим несколько новых столбцов с признаками:\n",
    "- Отношение количества комнат total_rooms к количеству домовладений households (rooms_per_household).\n",
    "- Отношение количества жителей population к количеству домовладений households (population_in_household).\n",
    "- Отношение количества спален total_bedrooms к общему количеству комнат total_rooms (bedroom_index)."
   ]
  },
  {
   "cell_type": "code",
   "execution_count": 5,
   "id": "70fb0ddd-32e8-48af-9de8-9afe9b2dee32",
   "metadata": {},
   "outputs": [
    {
     "name": "stdout",
     "output_type": "stream",
     "text": [
      "root\n",
      " |-- longitude: double (nullable = false)\n",
      " |-- latitude: double (nullable = false)\n",
      " |-- housing_median_age: double (nullable = false)\n",
      " |-- total_rooms: double (nullable = false)\n",
      " |-- total_bedrooms: double (nullable = false)\n",
      " |-- population: double (nullable = false)\n",
      " |-- households: double (nullable = false)\n",
      " |-- median_income: double (nullable = false)\n",
      " |-- median_house_value: double (nullable = false)\n",
      " |-- ocean_proximity: string (nullable = true)\n",
      " |-- rooms_per_household: double (nullable = true)\n",
      " |-- population_in_household: double (nullable = true)\n",
      " |-- bedroom_index: double (nullable = true)\n",
      "\n"
     ]
    }
   ],
   "source": [
    "housing = housing.withColumn('rooms_per_household', F.col('total_rooms') / F.col('households')) \\\n",
    "                 .withColumn('population_in_household', F.col('population') / F.col('households')) \\\n",
    "                 .withColumn('bedroom_index', F.col('total_bedrooms') / F.col('total_rooms'))\n",
    "\n",
    "housing.printSchema()"
   ]
  },
  {
   "cell_type": "markdown",
   "id": "d4b436bd-5107-4428-b899-28ede1a5517c",
   "metadata": {},
   "source": [
    "Удалим столбцы с координатами домов и проверим наличие пропущенных значений после обработки."
   ]
  },
  {
   "cell_type": "code",
   "execution_count": 6,
   "id": "08919cff-5a48-4d8d-8564-a6897e711190",
   "metadata": {},
   "outputs": [
    {
     "name": "stdout",
     "output_type": "stream",
     "text": [
      "+------------------+-----------+--------------+----------+----------+-------------+------------------+---------------+-------------------+-----------------------+-------------------+\n",
      "|housing_median_age|total_rooms|total_bedrooms|population|households|median_income|median_house_value|ocean_proximity|rooms_per_household|population_in_household|      bedroom_index|\n",
      "+------------------+-----------+--------------+----------+----------+-------------+------------------+---------------+-------------------+-----------------------+-------------------+\n",
      "|              41.0|      880.0|         129.0|     322.0|     126.0|       8.3252|          452600.0|       NEAR BAY|  6.984126984126984|     2.5555555555555554|0.14659090909090908|\n",
      "|              21.0|     7099.0|        1106.0|    2401.0|    1138.0|       8.3014|          358500.0|       NEAR BAY|  6.238137082601054|      2.109841827768014|0.15579659106916466|\n",
      "|              52.0|     1467.0|         190.0|     496.0|     177.0|       7.2574|          352100.0|       NEAR BAY|  8.288135593220339|     2.8022598870056497|0.12951601908657123|\n",
      "|              52.0|     1274.0|         235.0|     558.0|     219.0|       5.6431|          341300.0|       NEAR BAY| 5.8173515981735155|      2.547945205479452|0.18445839874411302|\n",
      "|              52.0|     1627.0|         280.0|     565.0|     259.0|       3.8462|          342200.0|       NEAR BAY|  6.281853281853282|     2.1814671814671813| 0.1720958819913952|\n",
      "+------------------+-----------+--------------+----------+----------+-------------+------------------+---------------+-------------------+-----------------------+-------------------+\n",
      "only showing top 5 rows\n",
      "\n",
      "+------------------+-----------+--------------+----------+----------+-------------+------------------+---------------+-------------------+-----------------------+-------------+\n",
      "|housing_median_age|total_rooms|total_bedrooms|population|households|median_income|median_house_value|ocean_proximity|rooms_per_household|population_in_household|bedroom_index|\n",
      "+------------------+-----------+--------------+----------+----------+-------------+------------------+---------------+-------------------+-----------------------+-------------+\n",
      "|                 0|          0|             0|         0|         0|            0|                 0|              0|                  0|                      0|            0|\n",
      "+------------------+-----------+--------------+----------+----------+-------------+------------------+---------------+-------------------+-----------------------+-------------+\n",
      "\n"
     ]
    }
   ],
   "source": [
    "housing = housing.drop('longitude', 'latitude')\n",
    "housing.show(5)\n",
    "\n",
    "nan_count(housing)"
   ]
  },
  {
   "cell_type": "markdown",
   "id": "fa04b42e-f1e2-4ea5-80c5-a73db78ffdb2",
   "metadata": {},
   "source": [
    "В результате подготовки данных заменены пропущенные значения и добавлены новые признаки."
   ]
  },
  {
   "cell_type": "markdown",
   "id": "9f0a82f3",
   "metadata": {
    "id": "9f0a82f3"
   },
   "source": [
    "# Обучение моделей"
   ]
  },
  {
   "cell_type": "markdown",
   "id": "b92225e4",
   "metadata": {},
   "source": [
    "- Постройте две модели линейной регрессии на разных наборах данных:\n",
    "    - используя все данные из файла;\n",
    "    - используя только числовые переменные, исключив категориальные.\n",
    "- Для построения модели используйте оценщик LinearRegression из библиотеки MLlib."
   ]
  },
  {
   "cell_type": "code",
   "execution_count": 9,
   "id": "02f71082-960b-4c6f-8f43-0eddd7b0ff42",
   "metadata": {},
   "outputs": [],
   "source": [
    "housing = housing.withColumnRenamed('median_house_value', 'label')\n",
    "train, test = housing.randomSplit([0.8, 0.2], seed=515)"
   ]
  },
  {
   "cell_type": "markdown",
   "id": "d898f5b9-f53b-4a77-b130-dca1872bd31d",
   "metadata": {},
   "source": [
    "Создадим конвейер для трансформации признаков."
   ]
  },
  {
   "cell_type": "code",
   "execution_count": null,
   "id": "52e46035-af1f-4455-be52-51ce15a10370",
   "metadata": {},
   "outputs": [],
   "source": [
    "ocean_proximity_indexer = StringIndexer(inputCol='ocean_proximity', outputCol='ocean_proximity_idx')\n",
    "ocean_proximity_encoder = OneHotEncoder(inputCol='ocean_proximity_idx', outputCol='ocean_proximity_ohe')\n",
    "\n",
    "scaler...\n",
    "\n",
    "vec_assembler_all_cols = VectorAssembler(inputCols=['ocean_proximity_ohe', ...], outputCol='features')\n",
    "housing_pipe_all_cols = Pipeline(stages=[ocean_proximity_indexer, ocean_proximity_encoder, ..., vec_assembler_all_cols])\n",
    "train_all_cols = housing_pipe.fit(train).transform(train)\n",
    "test_all_cols = housing_pipe.transform(test)\n",
    "\n",
    "vec_assembler_num_cols = VectorAssembler(inputCols=[...], outputCol='features')\n",
    "housing_pipe_num_cols = Pipeline(stages=[..., vec_assembler_num_cols])\n",
    "train_num_cols = housing_pipe.fit(train).transform(train)\n",
    "test_num_cols = housing_pipe.transform(test)"
   ]
  },
  {
   "cell_type": "code",
   "execution_count": null,
   "id": "9363def0-1bbf-4b46-b9a8-87fec27108ca",
   "metadata": {},
   "outputs": [],
   "source": [
    "# Create a LogisticRegression Estimator\n",
    "lr = LogisticRegression()\n",
    "\n",
    "# Create a BinaryClassificationEvaluator\n",
    "evaluator = evals.BinaryClassificationEvaluator(metricName='areaUnderROC')\n",
    "\n",
    "# Create the parameter grid\n",
    "grid = tune.ParamGridBuilder()\n",
    "\n",
    "# Add the hyperparameter\n",
    "grid = grid.addGrid(lr.regParam, np.arange(0, .1, .01))\n",
    "grid = grid.addGrid(lr.elasticNetParam, [0, 1])\n",
    "\n",
    "# Build the grid\n",
    "grid = grid.build()\n",
    "\n",
    "# Create the CrossValidator\n",
    "cv = tune.CrossValidator(estimator=lr,\n",
    "                         estimatorParamMaps=grid,\n",
    "                         evaluator=evaluator,\n",
    "                         numFolds=5,\n",
    "                         seed=515)\n",
    "\n",
    "# Fit cross validation models\n",
    "models = cv.fit(training)\n",
    "\n",
    "# Extract the best model\n",
    "best_lr = models.bestModel\n",
    "\n",
    "# Use the model to predict the test set\n",
    "test_results = best_lr.transform(test)\n",
    "\n",
    "# Evaluate the predictions\n",
    "print(evaluator.evaluate(test_results))"
   ]
  },
  {
   "cell_type": "code",
   "execution_count": null,
   "id": "20a01a89-f0c2-4edf-8cf3-6433e3e86b4c",
   "metadata": {},
   "outputs": [],
   "source": [
    "# отключим соединение со Spark\n",
    "# spark.stop()"
   ]
  },
  {
   "cell_type": "markdown",
   "id": "757fd103",
   "metadata": {
    "id": "757fd103"
   },
   "source": [
    "# Анализ результатов"
   ]
  },
  {
   "cell_type": "markdown",
   "id": "c741b2ce",
   "metadata": {},
   "source": [
    "- Сравните результаты работы линейной регрессии на двух наборах данных по метрикам RMSE, MAE и R2. \n",
    "- Сделайте выводы."
   ]
  }
 ],
 "metadata": {
  "ExecuteTimeLog": [
   {
    "duration": 569,
    "start_time": "2022-06-24T08:19:40.839Z"
   },
   {
    "duration": 54,
    "start_time": "2022-06-24T08:19:55.173Z"
   },
   {
    "duration": 528,
    "start_time": "2022-06-24T08:20:23.987Z"
   }
  ],
  "colab": {
   "name": "PySparkSprint.ipynb",
   "provenance": []
  },
  "kernelspec": {
   "display_name": "Python 3 (ipykernel)",
   "language": "python",
   "name": "python3"
  },
  "language_info": {
   "codemirror_mode": {
    "name": "ipython",
    "version": 3
   },
   "file_extension": ".py",
   "mimetype": "text/x-python",
   "name": "python",
   "nbconvert_exporter": "python",
   "pygments_lexer": "ipython3",
   "version": "3.9.13"
  },
  "toc": {
   "base_numbering": 1,
   "nav_menu": {},
   "number_sections": true,
   "sideBar": true,
   "skip_h1_title": true,
   "title_cell": "Table of Contents",
   "title_sidebar": "Contents",
   "toc_cell": false,
   "toc_position": {},
   "toc_section_display": true,
   "toc_window_display": false
  }
 },
 "nbformat": 4,
 "nbformat_minor": 5
}
